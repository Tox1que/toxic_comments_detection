{
 "cells": [
  {
   "attachments": {},
   "cell_type": "markdown",
   "metadata": {
    "toc": true
   },
   "source": [
    "<h1>Содержание<span class=\"tocSkip\"></span></h1>\n",
    "<div class=\"toc\"><ul class=\"toc-item\"><li><span><a href=\"#Подготовка\" data-toc-modified-id=\"Подготовка-1\"><span class=\"toc-item-num\">1&nbsp;&nbsp;</span>Подготовка</a></span></li><li><span><a href=\"#Обучение\" data-toc-modified-id=\"Обучение-2\"><span class=\"toc-item-num\">2&nbsp;&nbsp;</span>Обучение</a></span><ul class=\"toc-item\"><li><span><a href=\"#Предобработка-данных\" data-toc-modified-id=\"Предобработка-данных-2.1\"><span class=\"toc-item-num\">2.1&nbsp;&nbsp;</span>Предобработка данных</a></span></li><li><span><a href=\"#Перевод-текстов-в-векторы\" data-toc-modified-id=\"Перевод-текстов-в-векторы-2.2\"><span class=\"toc-item-num\">2.2&nbsp;&nbsp;</span>Перевод текстов в векторы</a></span></li><li><span><a href=\"#Подбор-гиперпараметров-для-моделей-логистической-регрессии-и-градиентного-бустинга\" data-toc-modified-id=\"Подбор-гиперпараметров-для-моделей-логистической-регрессии-и-градиентного-бустинга-2.3\"><span class=\"toc-item-num\">2.3&nbsp;&nbsp;</span>Подбор гиперпараметров для моделей логистической регрессии и градиентного бустинга</a></span></li><li><span><a href=\"#Финальное-тестирование\" data-toc-modified-id=\"Финальное-тестирование-2.4\"><span class=\"toc-item-num\">2.4&nbsp;&nbsp;</span>Финальное тестирование</a></span></li></ul></li><li><span><a href=\"#Выводы\" data-toc-modified-id=\"Выводы-3\"><span class=\"toc-item-num\">3&nbsp;&nbsp;</span>Выводы</a></span></li></ul></div>"
   ]
  },
  {
   "attachments": {},
   "cell_type": "markdown",
   "metadata": {},
   "source": [
    "# Проект для «Викишоп» с BERT"
   ]
  },
  {
   "attachments": {},
   "cell_type": "markdown",
   "metadata": {},
   "source": [
    "Интернет-магазин «Викишоп» запускает новый сервис. Теперь пользователи могут редактировать и дополнять описания товаров, как в вики-сообществах. То есть клиенты предлагают свои правки и комментируют изменения других. Магазину нужен инструмент, который будет искать токсичные комментарии и отправлять их на модерацию. \n",
    "\n",
    "Обучите модель классифицировать комментарии на позитивные и негативные. В вашем распоряжении набор данных с разметкой о токсичности правок.\n",
    "\n",
    "Постройте модель со значением метрики качества *F1* не меньше 0.75."
   ]
  },
  {
   "attachments": {},
   "cell_type": "markdown",
   "metadata": {},
   "source": [
    "## Подготовка"
   ]
  },
  {
   "cell_type": "code",
   "execution_count": 10,
   "metadata": {
    "scrolled": false
   },
   "outputs": [],
   "source": [
    "# !pip install matplotlib==3.8.0\n",
    "# !pip install seaborn==0.13.0\n",
    "# !pip install gdown\n",
    "# !pip install optuna"
   ]
  },
  {
   "cell_type": "code",
   "execution_count": 2,
   "metadata": {},
   "outputs": [],
   "source": [
    "import os\n",
    "import warnings\n",
    "\n",
    "import gdown\n",
    "import matplotlib.pyplot as plt\n",
    "import nltk\n",
    "import numpy as np\n",
    "import optuna\n",
    "import pandas as pd\n",
    "import seaborn as sns\n",
    "import torch\n",
    "import torch.nn as nn\n",
    "import transformers\n",
    "from catboost import CatBoostClassifier\n",
    "from IPython.display import HTML, display\n",
    "from joblib import Parallel, delayed\n",
    "from nltk.corpus import stopwords as nltk_stopwords\n",
    "from sklearn.linear_model import LogisticRegression        \n",
    "from sklearn.metrics import (ConfusionMatrixDisplay, accuracy_score,\n",
    "                             classification_report, confusion_matrix,\n",
    "                             roc_auc_score, roc_curve)\n",
    "from sklearn.model_selection import (StratifiedKFold, cross_validate,\n",
    "                                     train_test_split)\n",
    "from torch.utils.data import DataLoader, Dataset\n",
    "from tqdm import notebook\n",
    "from transformers import AutoModel, AutoTokenizer"
   ]
  },
  {
   "cell_type": "code",
   "execution_count": 3,
   "metadata": {},
   "outputs": [
    {
     "data": {
      "text/html": [
       "<style>.container { width:90% !important; }</style>"
      ],
      "text/plain": [
       "<IPython.core.display.HTML object>"
      ]
     },
     "metadata": {},
     "output_type": "display_data"
    },
    {
     "name": "stderr",
     "output_type": "stream",
     "text": [
      "[nltk_data] Downloading package stopwords to /home/jovyan/nltk_data...\n",
      "[nltk_data]   Package stopwords is already up-to-date!\n"
     ]
    }
   ],
   "source": [
    "SEED = 12345\n",
    "\n",
    "display(HTML('<style>.container { width:90% !important; }</style>'))\n",
    "nltk.download('stopwords')\n",
    "optuna.logging.set_verbosity(optuna.logging.WARNING)\n",
    "sns.set_style('darkgrid')\n",
    "stopwords = list(set(nltk_stopwords.words('english')))\n",
    "warnings.filterwarnings('ignore')"
   ]
  },
  {
   "cell_type": "code",
   "execution_count": 4,
   "metadata": {},
   "outputs": [],
   "source": [
    "def get_df(file_name, idx=[0]):\n",
    "    path_to_file = os.path.relpath(os.path.join('datasets/', file_name))\n",
    "    if os.path.isfile(path_to_file):\n",
    "        return pd.read_csv(path_to_file, index_col=idx)\n",
    "    raise Exception('Данные отсутствуют')"
   ]
  },
  {
   "cell_type": "code",
   "execution_count": 5,
   "metadata": {},
   "outputs": [
    {
     "name": "stdout",
     "output_type": "stream",
     "text": [
      "True\n"
     ]
    }
   ],
   "source": [
    "df = get_df('toxic_comments.csv')"
   ]
  },
  {
   "cell_type": "code",
   "execution_count": 6,
   "metadata": {},
   "outputs": [
    {
     "name": "stdout",
     "output_type": "stream",
     "text": [
      "<class 'pandas.core.frame.DataFrame'>\n",
      "Int64Index: 159292 entries, 0 to 159450\n",
      "Data columns (total 2 columns):\n",
      " #   Column  Non-Null Count   Dtype \n",
      "---  ------  --------------   ----- \n",
      " 0   text    159292 non-null  object\n",
      " 1   toxic   159292 non-null  int64 \n",
      "dtypes: int64(1), object(1)\n",
      "memory usage: 3.6+ MB\n"
     ]
    },
    {
     "data": {
      "text/html": [
       "<div>\n",
       "<style scoped>\n",
       "    .dataframe tbody tr th:only-of-type {\n",
       "        vertical-align: middle;\n",
       "    }\n",
       "\n",
       "    .dataframe tbody tr th {\n",
       "        vertical-align: top;\n",
       "    }\n",
       "\n",
       "    .dataframe thead th {\n",
       "        text-align: right;\n",
       "    }\n",
       "</style>\n",
       "<table border=\"1\" class=\"dataframe\">\n",
       "  <thead>\n",
       "    <tr style=\"text-align: right;\">\n",
       "      <th></th>\n",
       "      <th>text</th>\n",
       "      <th>toxic</th>\n",
       "    </tr>\n",
       "  </thead>\n",
       "  <tbody>\n",
       "    <tr>\n",
       "      <th>0</th>\n",
       "      <td>Explanation\\nWhy the edits made under my usern...</td>\n",
       "      <td>0</td>\n",
       "    </tr>\n",
       "    <tr>\n",
       "      <th>1</th>\n",
       "      <td>D'aww! He matches this background colour I'm s...</td>\n",
       "      <td>0</td>\n",
       "    </tr>\n",
       "    <tr>\n",
       "      <th>2</th>\n",
       "      <td>Hey man, I'm really not trying to edit war. It...</td>\n",
       "      <td>0</td>\n",
       "    </tr>\n",
       "    <tr>\n",
       "      <th>3</th>\n",
       "      <td>\"\\nMore\\nI can't make any real suggestions on ...</td>\n",
       "      <td>0</td>\n",
       "    </tr>\n",
       "    <tr>\n",
       "      <th>4</th>\n",
       "      <td>You, sir, are my hero. Any chance you remember...</td>\n",
       "      <td>0</td>\n",
       "    </tr>\n",
       "    <tr>\n",
       "      <th>...</th>\n",
       "      <td>...</td>\n",
       "      <td>...</td>\n",
       "    </tr>\n",
       "    <tr>\n",
       "      <th>159446</th>\n",
       "      <td>\":::::And for the second time of asking, when ...</td>\n",
       "      <td>0</td>\n",
       "    </tr>\n",
       "    <tr>\n",
       "      <th>159447</th>\n",
       "      <td>You should be ashamed of yourself \\n\\nThat is ...</td>\n",
       "      <td>0</td>\n",
       "    </tr>\n",
       "    <tr>\n",
       "      <th>159448</th>\n",
       "      <td>Spitzer \\n\\nUmm, theres no actual article for ...</td>\n",
       "      <td>0</td>\n",
       "    </tr>\n",
       "    <tr>\n",
       "      <th>159449</th>\n",
       "      <td>And it looks like it was actually you who put ...</td>\n",
       "      <td>0</td>\n",
       "    </tr>\n",
       "    <tr>\n",
       "      <th>159450</th>\n",
       "      <td>\"\\nAnd ... I really don't think you understand...</td>\n",
       "      <td>0</td>\n",
       "    </tr>\n",
       "  </tbody>\n",
       "</table>\n",
       "<p>159292 rows × 2 columns</p>\n",
       "</div>"
      ],
      "text/plain": [
       "                                                     text  toxic\n",
       "0       Explanation\\nWhy the edits made under my usern...      0\n",
       "1       D'aww! He matches this background colour I'm s...      0\n",
       "2       Hey man, I'm really not trying to edit war. It...      0\n",
       "3       \"\\nMore\\nI can't make any real suggestions on ...      0\n",
       "4       You, sir, are my hero. Any chance you remember...      0\n",
       "...                                                   ...    ...\n",
       "159446  \":::::And for the second time of asking, when ...      0\n",
       "159447  You should be ashamed of yourself \\n\\nThat is ...      0\n",
       "159448  Spitzer \\n\\nUmm, theres no actual article for ...      0\n",
       "159449  And it looks like it was actually you who put ...      0\n",
       "159450  \"\\nAnd ... I really don't think you understand...      0\n",
       "\n",
       "[159292 rows x 2 columns]"
      ]
     },
     "execution_count": 6,
     "metadata": {},
     "output_type": "execute_result"
    }
   ],
   "source": [
    "df.info()\n",
    "df"
   ]
  },
  {
   "cell_type": "code",
   "execution_count": 7,
   "metadata": {},
   "outputs": [
    {
     "data": {
      "text/plain": [
       "0"
      ]
     },
     "execution_count": 7,
     "metadata": {},
     "output_type": "execute_result"
    }
   ],
   "source": [
    "df['text'].duplicated().sum()"
   ]
  },
  {
   "cell_type": "code",
   "execution_count": 8,
   "metadata": {},
   "outputs": [
    {
     "data": {
      "image/png": "[encoded data removed]",
      "text/plain": [
       "<Figure size 504x288 with 1 Axes>"
      ]
     },
     "metadata": {
      "needs_background": "light"
     },
     "output_type": "display_data"
    }
   ],
   "source": [
    "temp = df.pivot_table(index='toxic', values='text',\n",
    "                      aggfunc='count', margins=True)\n",
    "temp.columns = ['count']\n",
    "temp['percentage'] = temp.apply(\n",
    "    lambda x: (x.values / temp.loc['All', 'count'] * 100).round(2)\n",
    ")\n",
    "temp = temp.drop('All', axis=0)\n",
    "\n",
    "plt.figure(figsize=(7, 4))\n",
    "pal = sns.diverging_palette(220, 20, as_cmap=True).reversed()\n",
    "ax = sns.barplot(data=temp, x=temp.index, y='count', palette=pal,\n",
    "                 hue='count', dodge=False, alpha=.3)\n",
    "\n",
    "patches = ax.patches[1::-1]\n",
    "for item, value in zip(patches, temp['percentage']):\n",
    "    plt.annotate(f'{value}%',\n",
    "                 (item.get_x() + item.get_width() / 2.4, item.get_height()),\n",
    "                 fontsize=12)\n",
    "\n",
    "plt.xticks([0, 1], ['Нетоксичный комментарий', 'Токсичный комментарий'])\n",
    "ax.set_xlabel('')\n",
    "ax.set_ylabel('Количество объектов')\n",
    "ax.set_title('Соотношение классов целевого признака')\n",
    "ax.get_legend().remove()\n",
    "ax.grid(True)"
   ]
  },
  {
   "attachments": {},
   "cell_type": "markdown",
   "metadata": {},
   "source": [
    "**Вывод**:  \n",
    "- загруженный набор данных состоит из 159292 объектов;  \n",
    "- пропуски и явные дубликаты отсутствуют;  \n",
    "- классы целевого признака не сбалансированы."
   ]
  },
  {
   "attachments": {},
   "cell_type": "markdown",
   "metadata": {},
   "source": [
    "## Обучение"
   ]
  },
  {
   "attachments": {},
   "cell_type": "markdown",
   "metadata": {},
   "source": [
    "### Предобработка данных"
   ]
  },
  {
   "attachments": {},
   "cell_type": "markdown",
   "metadata": {},
   "source": [
    "Избавимся от лишних символов и стоп-слов."
   ]
  },
  {
   "cell_type": "code",
   "execution_count": 9,
   "metadata": {},
   "outputs": [
    {
     "name": "stdout",
     "output_type": "stream",
     "text": [
      "CPU times: user 3.5 s, sys: 41.1 ms, total: 3.54 s\n",
      "Wall time: 3.55 s\n"
     ]
    }
   ],
   "source": [
    "%%time\n",
    "df['text'] = df['text'].str.replace(r'\\n+', ' ', regex=True)\n",
    "df['text'] = df['text'].str.replace(\n",
    "    r'[^a-z\\.\\!\\?\\s\\']', ' ', case=False, regex=True\n",
    ")"
   ]
  },
  {
   "cell_type": "code",
   "execution_count": 10,
   "metadata": {},
   "outputs": [
    {
     "name": "stdout",
     "output_type": "stream",
     "text": [
      "CPU times: user 24 s, sys: 6.97 ms, total: 24 s\n",
      "Wall time: 24 s\n"
     ]
    }
   ],
   "source": [
    "%%time\n",
    "to_remove = ' | '.join(stopwords)\n",
    "to_remove = ' ' + to_remove + ' '\n",
    "df['text'] = \\\n",
    "    df['text'].str.replace(to_remove, ' ', case=False, regex=True)"
   ]
  },
  {
   "cell_type": "code",
   "execution_count": 11,
   "metadata": {},
   "outputs": [
    {
     "name": "stdout",
     "output_type": "stream",
     "text": [
      "CPU times: user 3.03 s, sys: 7.82 ms, total: 3.03 s\n",
      "Wall time: 3.05 s\n"
     ]
    }
   ],
   "source": [
    "%%time\n",
    "df['text'] = df['text'].str.replace(r'^[^a-z]', ' ', case=False, regex=True)\n",
    "df['text'] = \\\n",
    "    df['text'].str.replace(r'\\. (?![A-Z])', ' ', case=True, regex=True)\n",
    "df['text'] = df['text'].replace(r'\\s{2,}', ' ', regex=True)\n",
    "df['text'] = df['text'].str.strip()"
   ]
  },
  {
   "attachments": {},
   "cell_type": "markdown",
   "metadata": {},
   "source": [
    "### Перевод текстов в векторы"
   ]
  },
  {
   "cell_type": "code",
   "execution_count": 12,
   "metadata": {},
   "outputs": [],
   "source": [
    "# model_path = 'unitary/toxic-bert'\n",
    "# model = AutoModel.from_pretrained(model_path)\n",
    "# tokenizer = AutoTokenizer.from_pretrained(model_path)"
   ]
  },
  {
   "cell_type": "code",
   "execution_count": 13,
   "metadata": {},
   "outputs": [],
   "source": [
    "# %%time\n",
    "# encoded = tokenizer.batch_encode_plus(\n",
    "#     df['text'].to_list(), add_special_tokens=True,\n",
    "#     return_attention_mask=True, padding='max_length', truncation=True,\n",
    "#     return_token_type_ids=False, max_length=100, return_tensors='pt'\n",
    "# )"
   ]
  },
  {
   "cell_type": "code",
   "execution_count": 14,
   "metadata": {},
   "outputs": [],
   "source": [
    "# padded, attention_mask = encoded.values()"
   ]
  },
  {
   "cell_type": "code",
   "execution_count": 15,
   "metadata": {},
   "outputs": [],
   "source": [
    "# batch_size = 200\n",
    "\n",
    "# class CustomDataset(torch.utils.data.Dataset):\n",
    "#     def __init__(self, data, attention_mask):\n",
    "#         self.data = data\n",
    "#         self.attention_mask = attention_mask\n",
    "\n",
    "#     def __len__(self):\n",
    "#         return len(self.data)\n",
    "\n",
    "#     def __getitem__(self, idx):\n",
    "#         return self.data[idx], self.attention_mask[idx]\n",
    "\n",
    "\n",
    "# dataset = CustomDataset(padded, attention_mask)\n",
    "# dataloader = DataLoader(dataset, batch_size=batch_size, shuffle=False)\n",
    "\n",
    "\n",
    "# def process_batch(batch):\n",
    "#     batch, attention_mask_batch = batch\n",
    "#     with torch.no_grad():\n",
    "#         batch_embeddings = model(batch, attention_mask=attention_mask_batch)\n",
    "#     return batch_embeddings[0][:, 0, :].cpu().numpy()"
   ]
  },
  {
   "cell_type": "code",
   "execution_count": 16,
   "metadata": {},
   "outputs": [],
   "source": [
    "# %%time\n",
    "# embeddings = Parallel(n_jobs=-1, backend='threading')(\n",
    "#     delayed(process_batch)(batch)\n",
    "#     for batch in notebook.tqdm(dataloader)\n",
    "# )"
   ]
  },
  {
   "cell_type": "code",
   "execution_count": 17,
   "metadata": {},
   "outputs": [],
   "source": [
    "# features = np.concatenate(embeddings)\n",
    "# np.save('embeddings_100', features)"
   ]
  },
  {
   "cell_type": "code",
   "execution_count": 18,
   "metadata": {},
   "outputs": [],
   "source": [
    "def get_embeddings(file_name):\n",
    "    path_to_file = os.path.relpath(os.path.join(file_name))\n",
    "    if os.path.isfile(path_to_file):\n",
    "        return np.load(file_name)\n",
    "    url = 'https://drive.google.com/uc?id=1gIhDHfgGqeut5Ztws_moW8PZ2Vgr1ftl'\n",
    "    gdown.download(url, file_name, quiet=False)\n",
    "    return np.load(file_name)"
   ]
  },
  {
   "cell_type": "code",
   "execution_count": 19,
   "metadata": {},
   "outputs": [],
   "source": [
    "features = get_embeddings('embeddings_100.npy')\n",
    "target = df['toxic']"
   ]
  },
  {
   "attachments": {},
   "cell_type": "markdown",
   "metadata": {},
   "source": [
    "### Подбор гиперпараметров для моделей логистической регрессии и градиентного бустинга"
   ]
  },
  {
   "cell_type": "code",
   "execution_count": 20,
   "metadata": {},
   "outputs": [],
   "source": [
    "features_train, features_test, target_train, target_test = \\\n",
    "    train_test_split(features, target, test_size=.2,\n",
    "                     stratify=target, random_state=SEED)"
   ]
  },
  {
   "cell_type": "code",
   "execution_count": 21,
   "metadata": {},
   "outputs": [],
   "source": [
    "features_train_, _, target_train_, _ = \\\n",
    "    train_test_split(features_train, target_train, test_size=.9,\n",
    "                     stratify=target_train, random_state=SEED)"
   ]
  },
  {
   "cell_type": "code",
   "execution_count": 22,
   "metadata": {},
   "outputs": [],
   "source": [
    "def objective(trial, X_train, y_train, classifier='cat'):\n",
    "    if classifier == 'cat':\n",
    "        params = {\n",
    "            'colsample_bylevel': trial.suggest_float(\n",
    "                'colsample_bylevel', 0.01, 1\n",
    "            ),\n",
    "            'depth': trial.suggest_int('depth', 2, 7),\n",
    "            'boosting_type': trial.suggest_categorical(\n",
    "                'boosting_type', ['Ordered', 'Plain']\n",
    "            ),\n",
    "            'bootstrap_type': trial.suggest_categorical(\n",
    "                'bootstrap_type', ['Bayesian', 'Bernoulli', 'MVS']\n",
    "            ),\n",
    "            'used_ram_limit': '3gb'\n",
    "        }\n",
    "\n",
    "        if params['bootstrap_type'] == 'Bayesian':\n",
    "            params['bagging_temperature'] = trial.suggest_float(\n",
    "                'bagging_temperature', 0, 10\n",
    "            )\n",
    "        elif params['bootstrap_type'] == 'Bernoulli':\n",
    "            params['subsample'] = trial.suggest_float('subsample', 0.1, 1)\n",
    "\n",
    "        clf = CatBoostClassifier(\n",
    "            **params, silent=True, random_state=SEED, thread_count=-1\n",
    "        )\n",
    "    else:\n",
    "        lr_params = {\n",
    "            'C': trial.suggest_float('C', 0.6, 0.8),\n",
    "            'max_iter': trial.suggest_int('max_iter', 100, 3000),\n",
    "            'solver': trial.suggest_categorical(\n",
    "                'solver', ['lbfgs', 'liblinear', 'sag', 'saga']\n",
    "            ),\n",
    "            'intercept_scaling': trial.suggest_int(\n",
    "                'intercept_scaling', 50, 70\n",
    "            ),\n",
    "            'tol': trial.suggest_float('tol', 0.2, 0.25)\n",
    "        }\n",
    "        clf = LogisticRegression(n_jobs=-1, random_state=SEED, **lr_params)\n",
    "\n",
    "    return cross_val_score(\n",
    "        clf, X_train, y_train, scoring='f1', n_jobs=-1,\n",
    "        cv=StratifiedKFold(5, random_state=SEED, shuffle=True)\n",
    "    ).mean()"
   ]
  },
  {
   "cell_type": "code",
   "execution_count": 23,
   "metadata": {},
   "outputs": [],
   "source": [
    "# func = lambda trial: objective(trial, features_train_, target_train_,\n",
    "#                                classifier='lr')\n",
    "# sampler = optuna.samplers.TPESampler(seed=SEED)\n",
    "# lr_study = optuna.create_study(direction='maximize', sampler=sampler)\n",
    "# lr_study.optimize(func, n_trials=10, show_progress_bar=True)"
   ]
  },
  {
   "cell_type": "code",
   "execution_count": 24,
   "metadata": {},
   "outputs": [],
   "source": [
    "# func = lambda trial: objective(trial, features_train_, target_train_)\n",
    "# sampler = optuna.samplers.TPESampler(seed=SEED)\n",
    "# cat_study = optuna.create_study(direction='maximize', sampler=sampler)\n",
    "# cat_study.optimize(func, n_trials=30, show_progress_bar=True)"
   ]
  },
  {
   "cell_type": "code",
   "execution_count": 25,
   "metadata": {},
   "outputs": [],
   "source": [
    "# lr_params = lr_study.best_params\n",
    "# cat_params = cat_study.best_params\n",
    "\n",
    "lr_params = {\n",
    "    'C': 0.7859232185634296,\n",
    "    'max_iter': 1017,\n",
    "    'solver': 'saga',\n",
    "    'intercept_scaling': 70,\n",
    "    'tol': 0.23265885484357854\n",
    "}\n",
    "\n",
    "cat_params = {\n",
    "    'colsample_bylevel': 0.7309835185238461,\n",
    "    'depth': 6,\n",
    "    'boosting_type': 'Plain',\n",
    "    'bootstrap_type': 'MVS'\n",
    "}"
   ]
  },
  {
   "cell_type": "code",
   "execution_count": 26,
   "metadata": {},
   "outputs": [
    {
     "name": "stdout",
     "output_type": "stream",
     "text": [
      "CPU times: user 2.01 s, sys: 401 ms, total: 2.41 s\n",
      "Wall time: 2.39 s\n"
     ]
    }
   ],
   "source": [
    "%%time\n",
    "lr_model = LogisticRegression(random_state=SEED, n_jobs=-1, **lr_params)\n",
    "\n",
    "lr_result = cross_validate(\n",
    "    lr_model, features_train_, target_train_, n_jobs=-1,\n",
    "    scoring=['f1', 'roc_auc'], error_score='raise',\n",
    "    cv=StratifiedKFold(5, random_state=SEED, shuffle=True),\n",
    ")"
   ]
  },
  {
   "cell_type": "code",
   "execution_count": 27,
   "metadata": {},
   "outputs": [],
   "source": [
    "cv_results = []\n",
    "cv_results.append(\n",
    "    [lr_result['test_f1'].mean(), lr_result['test_roc_auc'].mean(),\n",
    "     lr_result['fit_time'].mean()]\n",
    ")"
   ]
  },
  {
   "cell_type": "code",
   "execution_count": 28,
   "metadata": {},
   "outputs": [],
   "source": [
    "# %%time\n",
    "# cat_model = CatBoostClassifier(\n",
    "#     silent=True, **cat_params, random_state=SEED, thread_count=-1\n",
    "# )\n",
    "# cat_result = cross_validate(\n",
    "#     cat_model, features_train_, target_train_, n_jobs=-1,\n",
    "#     scoring=['f1', 'roc_auc'], error_score='raise',\n",
    "#     cv=StratifiedKFold(5, random_state=SEED, shuffle=True),\n",
    "# )"
   ]
  },
  {
   "cell_type": "code",
   "execution_count": 29,
   "metadata": {},
   "outputs": [],
   "source": [
    "cat_result = {}\n",
    "cat_result['test_f1'] = \\\n",
    "    np.array([0.89387755, 0.89788054, 0.89788054, 0.88188976, 0.89938398])\n",
    "cat_result['test_roc_auc'] = \\\n",
    "    np.array([0.99416803, 0.99163224, 0.99449343, 0.99081557, 0.99439994])\n",
    "cat_result['fit_time'] = \\\n",
    "    np.array([304.05780268, 305.87503767, 300.88471246, 300.69109964, 299.94534755])\n",
    "\n",
    "cv_results.append(\n",
    "    [cat_result['test_f1'].mean(), cat_result['test_roc_auc'].mean(),\n",
    "     cat_result['fit_time'].mean()]\n",
    ")"
   ]
  },
  {
   "cell_type": "code",
   "execution_count": 30,
   "metadata": {},
   "outputs": [
    {
     "data": {
      "text/html": [
       "<div>\n",
       "<style scoped>\n",
       "    .dataframe tbody tr th:only-of-type {\n",
       "        vertical-align: middle;\n",
       "    }\n",
       "\n",
       "    .dataframe tbody tr th {\n",
       "        vertical-align: top;\n",
       "    }\n",
       "\n",
       "    .dataframe thead th {\n",
       "        text-align: right;\n",
       "    }\n",
       "</style>\n",
       "<table border=\"1\" class=\"dataframe\">\n",
       "  <thead>\n",
       "    <tr style=\"text-align: right;\">\n",
       "      <th></th>\n",
       "      <th>LogisticRegression</th>\n",
       "      <th>CatBoostClassifier</th>\n",
       "    </tr>\n",
       "  </thead>\n",
       "  <tbody>\n",
       "    <tr>\n",
       "      <th>Среднее значение метрики F1</th>\n",
       "      <td>0.89</td>\n",
       "      <td>0.89</td>\n",
       "    </tr>\n",
       "    <tr>\n",
       "      <th>Среднее значение метрики ROC_AUC</th>\n",
       "      <td>0.99</td>\n",
       "      <td>0.99</td>\n",
       "    </tr>\n",
       "    <tr>\n",
       "      <th>Среднее время обучения (секунды)</th>\n",
       "      <td>0.46</td>\n",
       "      <td>302.29</td>\n",
       "    </tr>\n",
       "  </tbody>\n",
       "</table>\n",
       "</div>"
      ],
      "text/plain": [
       "                                  LogisticRegression  CatBoostClassifier\n",
       "Среднее значение метрики F1                     0.89                0.89\n",
       "Среднее значение метрики ROC_AUC                0.99                0.99\n",
       "Среднее время обучения (секунды)                0.46              302.29"
      ]
     },
     "execution_count": 30,
     "metadata": {},
     "output_type": "execute_result"
    }
   ],
   "source": [
    "ids = ['Среднее значение метрики F1', 'Среднее значение метрики ROC_AUC',\n",
    "       'Среднее время обучения (секунды)']\n",
    "model_results = {\n",
    "    'LogisticRegression': cv_results[0],\n",
    "    'CatBoostClassifier': cv_results[1]\n",
    "}\n",
    "pd.DataFrame(\n",
    "    data=model_results,\n",
    "    index=ids\n",
    ").round(2)"
   ]
  },
  {
   "attachments": {},
   "cell_type": "markdown",
   "metadata": {},
   "source": [
    "Рассмотренные модели на кросс-валидации продемонстрировали примерно равные результаты, при этом модель логистической регрессии обучается значительно быстрее градиентного бустинга. Поэтому для финального тестирования выберем модель логистической регрессии."
   ]
  },
  {
   "attachments": {},
   "cell_type": "markdown",
   "metadata": {},
   "source": [
    "### Финальное тестирование"
   ]
  },
  {
   "cell_type": "code",
   "execution_count": 31,
   "metadata": {},
   "outputs": [],
   "source": [
    "# %%time\n",
    "# model = LogisticRegression(random_state=SEED, n_jobs=-1, **lr_params)\n",
    "# model.fit(features_train, target_train)\n",
    "# predicted = model.predict(features_test)"
   ]
  },
  {
   "cell_type": "code",
   "execution_count": 32,
   "metadata": {},
   "outputs": [
    {
     "name": "stdout",
     "output_type": "stream",
     "text": [
      "CPU times: user 3.8 s, sys: 23.8 ms, total: 3.83 s\n",
      "Wall time: 3.79 s\n"
     ]
    }
   ],
   "source": [
    "%%time\n",
    "model = LogisticRegression(random_state=SEED, n_jobs=-1, **lr_params)\n",
    "model.fit(features_train, target_train)\n",
    "predicted = model.predict(features_test)"
   ]
  },
  {
   "cell_type": "code",
   "execution_count": 33,
   "metadata": {},
   "outputs": [],
   "source": [
    "def plot_roc_curve(roc_auc, probs, X_test=features_test,\n",
    "                   y_test=target_test, threshold=.5):\n",
    "    fpr, tpr, thresh = roc_curve(y_test, probs)\n",
    "\n",
    "    idx = np.argmin(abs(thresh - threshold))\n",
    "    x_thresh, y_thresh = fpr[idx], tpr[idx]\n",
    "\n",
    "    plt.figure(figsize=(7, 5))\n",
    "    \n",
    "    plt.plot(fpr, tpr, label=f'ROC-кривая (площадь = {roc_auc:.2f})')\n",
    "    plt.plot([0, 1], [0, 1], c='r', linestyle='--', label='Случайная модель')\n",
    "\n",
    "    plt.axhline(y=y_thresh, c='black', ls=':')\n",
    "    plt.axvline(x=x_thresh, c='black', ls=':')\n",
    "    \n",
    "    plt.text(x=.05, y=.92, s=f'Порог : {threshold:.2f}')\n",
    "    plt.plot(x_thresh, y_thresh, 'ro')\n",
    "\n",
    "    plt.xlabel('False Positive Rate')\n",
    "    plt.ylabel('True Positive Rate')\n",
    "    plt.title('ROC-кривая')\n",
    "    plt.legend()"
   ]
  },
  {
   "cell_type": "code",
   "execution_count": 34,
   "metadata": {},
   "outputs": [
    {
     "data": {
      "image/png": "[encoded data removed]",
      "text/plain": [
       "<Figure size 432x288 with 2 Axes>"
      ]
     },
     "metadata": {
      "needs_background": "light"
     },
     "output_type": "display_data"
    }
   ],
   "source": [
    "matrix = confusion_matrix(target_test, predicted)\n",
    "ConfusionMatrixDisplay(confusion_matrix=matrix).plot();"
   ]
  },
  {
   "cell_type": "code",
   "execution_count": 35,
   "metadata": {},
   "outputs": [
    {
     "data": {
      "image/png": "[encoded data removed]",
      "text/plain": [
       "<Figure size 504x360 with 1 Axes>"
      ]
     },
     "metadata": {
      "needs_background": "light"
     },
     "output_type": "display_data"
    }
   ],
   "source": [
    "probs = model.predict_proba(features_test)[:, 1]\n",
    "roc_auc = roc_auc_score(target_test, probs)\n",
    "plot_roc_curve(roc_auc, probs)"
   ]
  },
  {
   "cell_type": "code",
   "execution_count": 36,
   "metadata": {},
   "outputs": [
    {
     "name": "stdout",
     "output_type": "stream",
     "text": [
      "              precision    recall  f1-score   support\n",
      "\n",
      "           0       0.99      0.99      0.99     28622\n",
      "           1       0.89      0.90      0.90      3237\n",
      "\n",
      "    accuracy                           0.98     31859\n",
      "   macro avg       0.94      0.94      0.94     31859\n",
      "weighted avg       0.98      0.98      0.98     31859\n",
      "\n"
     ]
    }
   ],
   "source": [
    "print(classification_report(target_test, predicted))"
   ]
  },
  {
   "attachments": {},
   "cell_type": "markdown",
   "metadata": {},
   "source": [
    "## Выводы"
   ]
  },
  {
   "attachments": {},
   "cell_type": "markdown",
   "metadata": {},
   "source": [
    "**Описание данных**   \n",
    "`text` — текст комментария  \n",
    "`toxic` — целевой признак.  \n",
    "\n",
    "**Ход исследования**:  \n",
    "- загружен набор данных, состоящий из 159292 объектов;  \n",
    "- в целевой переменной наблюдается дисбаланс классов;  \n",
    "- пропуски и явные дубликаты не обнаружены;  \n",
    "- данные очищены от лишних символов и стоп-слов;  \n",
    "- датасет разделён на обучающую и тестовую выборки в соотношении 4:1;  \n",
    "- с помощью модели `BERT` произведена токенизация и перевод текстов в векторы;  \n",
    "- выполнен подбор гиперпараметров для моделей логистической регрессии и градиентного бустинга;  \n",
    "- на кросс-валидации рассмотренные модели продемонстрировали примерно равные результаты, при этом модель логистической регрессии значительно превзошла градиентный бустинг по скорости обучения, поэтому была выбрана для финального тестирования;     \n",
    "- результат на тестовой выборке: `F1` = 0.9."
   ]
  }
 ],
 "metadata": {
  "ExecuteTimeLog": [
   {
    "duration": 1145,
    "start_time": "2024-03-20T11:51:58.263Z"
   },
   {
    "duration": 7,
    "start_time": "2024-03-20T11:52:09.556Z"
   },
   {
    "duration": 867,
    "start_time": "2024-03-23T17:41:38.995Z"
   },
   {
    "duration": 9,
    "start_time": "2024-03-23T17:41:49.101Z"
   },
   {
    "duration": 2909,
    "start_time": "2024-03-23T18:24:31.542Z"
   },
   {
    "duration": 11770,
    "start_time": "2024-03-23T18:24:59.529Z"
   },
   {
    "duration": 4,
    "start_time": "2024-03-23T18:25:43.464Z"
   },
   {
    "duration": 4078,
    "start_time": "2024-03-26T15:11:35.312Z"
   },
   {
    "duration": 3,
    "start_time": "2024-03-26T15:11:48.860Z"
   },
   {
    "duration": 4,
    "start_time": "2024-03-26T15:12:01.189Z"
   },
   {
    "duration": 3437,
    "start_time": "2024-03-26T15:12:13.061Z"
   },
   {
    "duration": 44,
    "start_time": "2024-03-26T15:12:42.476Z"
   },
   {
    "duration": 125831,
    "start_time": "2024-03-26T15:12:56.708Z"
   },
   {
    "duration": 4414,
    "start_time": "2024-03-26T15:17:30.178Z"
   },
   {
    "duration": 2,
    "start_time": "2024-03-26T15:17:34.594Z"
   },
   {
    "duration": 37,
    "start_time": "2024-03-26T15:17:34.598Z"
   },
   {
    "duration": 3417,
    "start_time": "2024-03-26T15:17:34.637Z"
   },
   {
    "duration": 44,
    "start_time": "2024-03-26T15:17:38.056Z"
   },
   {
    "duration": 22127,
    "start_time": "2024-03-26T15:17:38.102Z"
   },
   {
    "duration": 129,
    "start_time": "2024-03-26T15:18:30.985Z"
   },
   {
    "duration": 7,
    "start_time": "2024-03-26T15:18:49.944Z"
   },
   {
    "duration": 4089,
    "start_time": "2024-03-26T15:18:55.480Z"
   },
   {
    "duration": 3,
    "start_time": "2024-03-26T15:18:59.571Z"
   },
   {
    "duration": 30,
    "start_time": "2024-03-26T15:18:59.576Z"
   },
   {
    "duration": 3432,
    "start_time": "2024-03-26T15:18:59.608Z"
   },
   {
    "duration": 43,
    "start_time": "2024-03-26T15:19:03.041Z"
   },
   {
    "duration": 22302,
    "start_time": "2024-03-26T15:19:03.086Z"
   },
   {
    "duration": 4014,
    "start_time": "2024-03-26T15:20:43.016Z"
   },
   {
    "duration": 4,
    "start_time": "2024-03-26T15:20:47.033Z"
   },
   {
    "duration": 29,
    "start_time": "2024-03-26T15:20:47.038Z"
   },
   {
    "duration": 3441,
    "start_time": "2024-03-26T15:20:47.070Z"
   },
   {
    "duration": 46,
    "start_time": "2024-03-26T15:20:50.513Z"
   },
   {
    "duration": 13135,
    "start_time": "2024-03-26T15:20:50.560Z"
   },
   {
    "duration": 49334,
    "start_time": "2024-03-26T15:21:03.697Z"
   },
   {
    "duration": 3,
    "start_time": "2024-03-26T15:21:58.501Z"
   },
   {
    "duration": 5,
    "start_time": "2024-03-26T15:21:59.638Z"
   },
   {
    "duration": 102135,
    "start_time": "2024-03-26T15:22:03.861Z"
   },
   {
    "duration": 64,
    "start_time": "2024-04-03T14:27:20.162Z"
   },
   {
    "duration": 3422,
    "start_time": "2024-04-03T14:27:26.632Z"
   },
   {
    "duration": 3,
    "start_time": "2024-04-03T14:27:34.128Z"
   },
   {
    "duration": 1894,
    "start_time": "2024-04-03T14:27:34.824Z"
   },
   {
    "duration": 3991,
    "start_time": "2024-04-03T14:27:51.080Z"
   },
   {
    "duration": 3,
    "start_time": "2024-04-03T14:27:59.991Z"
   },
   {
    "duration": 3546,
    "start_time": "2024-04-03T14:28:00.720Z"
   },
   {
    "duration": 3,
    "start_time": "2024-04-03T14:28:07.983Z"
   },
   {
    "duration": 4,
    "start_time": "2024-04-03T14:28:08.599Z"
   },
   {
    "duration": 3453,
    "start_time": "2024-04-03T14:28:09.887Z"
   },
   {
    "duration": 150,
    "start_time": "2024-04-03T14:28:35.759Z"
   },
   {
    "duration": 4,
    "start_time": "2024-04-03T14:28:39.256Z"
   },
   {
    "duration": 999,
    "start_time": "2024-04-03T14:28:39.935Z"
   },
   {
    "duration": 41,
    "start_time": "2024-04-03T14:28:42.637Z"
   },
   {
    "duration": 80,
    "start_time": "2024-04-03T14:28:58.512Z"
   },
   {
    "duration": 381,
    "start_time": "2024-04-03T14:29:10.263Z"
   },
   {
    "duration": 9595,
    "start_time": "2024-04-03T14:29:32.687Z"
   },
   {
    "duration": 2,
    "start_time": "2024-04-03T14:29:49.399Z"
   },
   {
    "duration": 5,
    "start_time": "2024-04-03T14:29:50.471Z"
   },
   {
    "duration": 7,
    "start_time": "2024-04-03T14:29:51.158Z"
   },
   {
    "duration": 5,
    "start_time": "2024-04-03T14:29:57.911Z"
   },
   {
    "duration": 6,
    "start_time": "2024-04-03T14:29:58.422Z"
   },
   {
    "duration": 943,
    "start_time": "2024-04-03T14:29:59.118Z"
   },
   {
    "duration": 46,
    "start_time": "2024-04-03T14:30:00.063Z"
   },
   {
    "duration": 82,
    "start_time": "2024-04-03T14:30:00.430Z"
   },
   {
    "duration": 180,
    "start_time": "2024-04-03T14:30:01.906Z"
   },
   {
    "duration": 4,
    "start_time": "2024-04-03T14:31:47.222Z"
   },
   {
    "duration": 3,
    "start_time": "2024-04-03T14:32:11.574Z"
   },
   {
    "duration": 3,
    "start_time": "2024-04-03T14:32:28.920Z"
   },
   {
    "duration": 387,
    "start_time": "2024-04-03T14:32:29.680Z"
   },
   {
    "duration": 4609,
    "start_time": "2024-04-03T14:32:33.477Z"
   },
   {
    "duration": 149,
    "start_time": "2024-04-03T14:32:38.088Z"
   },
   {
    "duration": 4,
    "start_time": "2024-04-03T14:32:38.239Z"
   },
   {
    "duration": 980,
    "start_time": "2024-04-03T14:32:38.246Z"
   },
   {
    "duration": 40,
    "start_time": "2024-04-03T14:32:39.228Z"
   },
   {
    "duration": 92,
    "start_time": "2024-04-03T14:32:39.269Z"
   },
   {
    "duration": 679,
    "start_time": "2024-04-03T14:32:39.363Z"
   },
   {
    "duration": 3669,
    "start_time": "2024-04-03T14:33:23.557Z"
   },
   {
    "duration": 3,
    "start_time": "2024-04-03T14:33:34.829Z"
   },
   {
    "duration": 4,
    "start_time": "2024-04-03T14:33:47.687Z"
   },
   {
    "duration": 4882,
    "start_time": "2024-04-03T14:33:48.285Z"
   },
   {
    "duration": 145,
    "start_time": "2024-04-03T14:33:55.196Z"
   },
   {
    "duration": 4,
    "start_time": "2024-04-03T14:33:55.516Z"
   },
   {
    "duration": 952,
    "start_time": "2024-04-03T14:33:55.900Z"
   },
   {
    "duration": 52,
    "start_time": "2024-04-03T14:33:56.854Z"
   },
   {
    "duration": 80,
    "start_time": "2024-04-03T14:33:57.004Z"
   },
   {
    "duration": 669,
    "start_time": "2024-04-03T14:33:57.917Z"
   },
   {
    "duration": 345,
    "start_time": "2024-04-03T14:34:02.269Z"
   },
   {
    "duration": 3420,
    "start_time": "2024-04-03T14:36:46.971Z"
   },
   {
    "duration": 22709,
    "start_time": "2024-04-03T14:36:50.395Z"
   },
   {
    "duration": 2877,
    "start_time": "2024-04-03T14:37:13.106Z"
   },
   {
    "duration": 4,
    "start_time": "2024-04-03T14:44:42.856Z"
   },
   {
    "duration": 13,
    "start_time": "2024-04-03T14:44:42.862Z"
   },
   {
    "duration": 10,
    "start_time": "2024-04-03T14:44:42.877Z"
   },
   {
    "duration": 16,
    "start_time": "2024-04-03T14:44:42.890Z"
   },
   {
    "duration": 961,
    "start_time": "2024-04-03T14:44:42.908Z"
   },
   {
    "duration": 41,
    "start_time": "2024-04-03T14:44:43.871Z"
   },
   {
    "duration": 101,
    "start_time": "2024-04-03T14:44:43.914Z"
   },
   {
    "duration": 517,
    "start_time": "2024-04-03T14:44:44.016Z"
   },
   {
    "duration": 3432,
    "start_time": "2024-04-03T14:44:44.535Z"
   },
   {
    "duration": 22596,
    "start_time": "2024-04-03T14:44:47.971Z"
   },
   {
    "duration": 2912,
    "start_time": "2024-04-03T14:45:10.569Z"
   },
   {
    "duration": 5,
    "start_time": "2024-04-03T14:45:13.483Z"
   },
   {
    "duration": 20,
    "start_time": "2024-04-03T14:45:13.492Z"
   },
   {
    "duration": 19,
    "start_time": "2024-04-03T14:45:13.514Z"
   },
   {
    "duration": 14,
    "start_time": "2024-04-03T14:45:13.535Z"
   },
   {
    "duration": 17,
    "start_time": "2024-04-03T14:45:13.551Z"
   },
   {
    "duration": 19,
    "start_time": "2024-04-03T14:45:13.570Z"
   },
   {
    "duration": 13,
    "start_time": "2024-04-03T14:45:13.591Z"
   },
   {
    "duration": 33985,
    "start_time": "2024-04-03T14:45:13.606Z"
   },
   {
    "duration": 263,
    "start_time": "2024-04-03T14:45:47.594Z"
   },
   {
    "duration": 242,
    "start_time": "2024-04-03T14:45:47.860Z"
   },
   {
    "duration": 7,
    "start_time": "2024-04-03T14:45:48.104Z"
   },
   {
    "duration": 8,
    "start_time": "2024-04-03T14:45:48.113Z"
   },
   {
    "duration": 6,
    "start_time": "2024-04-03T14:45:48.123Z"
   },
   {
    "duration": 7,
    "start_time": "2024-04-03T14:45:48.130Z"
   },
   {
    "duration": 2553,
    "start_time": "2024-04-03T14:45:48.139Z"
   },
   {
    "duration": 5,
    "start_time": "2024-04-03T14:45:50.694Z"
   },
   {
    "duration": 90,
    "start_time": "2024-04-03T14:45:50.704Z"
   },
   {
    "duration": 9,
    "start_time": "2024-04-03T14:45:50.795Z"
   },
   {
    "duration": 17,
    "start_time": "2024-04-03T14:45:50.806Z"
   },
   {
    "duration": 3867,
    "start_time": "2024-04-03T14:45:50.825Z"
   },
   {
    "duration": 3902,
    "start_time": "2024-04-03T14:45:54.695Z"
   },
   {
    "duration": 98,
    "start_time": "2024-04-03T14:45:58.599Z"
   },
   {
    "duration": 429,
    "start_time": "2024-04-03T14:45:58.699Z"
   },
   {
    "duration": 749,
    "start_time": "2024-04-03T14:45:59.130Z"
   },
   {
    "duration": 3,
    "start_time": "2024-04-03T14:46:47.846Z"
   },
   {
    "duration": 50,
    "start_time": "2024-04-03T14:46:47.851Z"
   },
   {
    "duration": 102,
    "start_time": "2024-04-03T14:46:47.903Z"
   },
   {
    "duration": 58,
    "start_time": "2024-04-03T14:46:48.008Z"
   },
   {
    "duration": 1022,
    "start_time": "2024-04-03T14:46:48.069Z"
   },
   {
    "duration": 44,
    "start_time": "2024-04-03T14:46:49.093Z"
   },
   {
    "duration": 107,
    "start_time": "2024-04-03T14:46:49.139Z"
   },
   {
    "duration": 494,
    "start_time": "2024-04-03T14:46:49.248Z"
   },
   {
    "duration": 3675,
    "start_time": "2024-04-03T14:46:49.744Z"
   },
   {
    "duration": 23030,
    "start_time": "2024-04-03T14:46:53.423Z"
   },
   {
    "duration": 2913,
    "start_time": "2024-04-03T14:47:16.455Z"
   },
   {
    "duration": 5,
    "start_time": "2024-04-03T14:47:19.370Z"
   },
   {
    "duration": 45,
    "start_time": "2024-04-03T14:47:19.377Z"
   },
   {
    "duration": 44,
    "start_time": "2024-04-03T14:47:19.424Z"
   },
   {
    "duration": 18,
    "start_time": "2024-04-03T14:47:19.470Z"
   },
   {
    "duration": 8,
    "start_time": "2024-04-03T14:47:19.490Z"
   },
   {
    "duration": 15,
    "start_time": "2024-04-03T14:47:19.499Z"
   },
   {
    "duration": 6,
    "start_time": "2024-04-03T14:47:19.515Z"
   },
   {
    "duration": 3531,
    "start_time": "2024-04-03T14:47:19.522Z"
   },
   {
    "duration": 254,
    "start_time": "2024-04-03T14:47:23.054Z"
   },
   {
    "duration": 204,
    "start_time": "2024-04-03T14:47:23.309Z"
   },
   {
    "duration": 7,
    "start_time": "2024-04-03T14:47:23.515Z"
   },
   {
    "duration": 61,
    "start_time": "2024-04-03T14:47:23.524Z"
   },
   {
    "duration": 25,
    "start_time": "2024-04-03T14:47:23.587Z"
   },
   {
    "duration": 18,
    "start_time": "2024-04-03T14:47:23.614Z"
   },
   {
    "duration": 2558,
    "start_time": "2024-04-03T14:47:23.634Z"
   },
   {
    "duration": 5,
    "start_time": "2024-04-03T14:47:26.194Z"
   },
   {
    "duration": 93,
    "start_time": "2024-04-03T14:47:26.203Z"
   },
   {
    "duration": 6,
    "start_time": "2024-04-03T14:47:26.298Z"
   },
   {
    "duration": 10,
    "start_time": "2024-04-03T14:47:26.306Z"
   },
   {
    "duration": 3801,
    "start_time": "2024-04-03T14:47:26.318Z"
   },
   {
    "duration": 3975,
    "start_time": "2024-04-03T14:47:30.121Z"
   },
   {
    "duration": 100,
    "start_time": "2024-04-03T14:47:34.098Z"
   },
   {
    "duration": 438,
    "start_time": "2024-04-03T14:47:34.201Z"
   },
   {
    "duration": 762,
    "start_time": "2024-04-03T14:47:34.641Z"
   },
   {
    "duration": 23,
    "start_time": "2024-04-03T15:00:35.401Z"
   },
   {
    "duration": 4,
    "start_time": "2024-04-03T15:00:39.897Z"
   },
   {
    "duration": 3,
    "start_time": "2024-04-03T15:10:46.362Z"
   },
   {
    "duration": 23,
    "start_time": "2024-04-03T15:10:46.367Z"
   },
   {
    "duration": 59,
    "start_time": "2024-04-03T15:10:46.392Z"
   },
   {
    "duration": 4,
    "start_time": "2024-04-03T15:10:46.452Z"
   },
   {
    "duration": 960,
    "start_time": "2024-04-03T15:10:46.458Z"
   },
   {
    "duration": 41,
    "start_time": "2024-04-03T15:10:47.419Z"
   },
   {
    "duration": 103,
    "start_time": "2024-04-03T15:10:47.461Z"
   },
   {
    "duration": 517,
    "start_time": "2024-04-03T15:10:47.566Z"
   },
   {
    "duration": 3379,
    "start_time": "2024-04-03T15:10:48.085Z"
   },
   {
    "duration": 22516,
    "start_time": "2024-04-03T15:10:51.466Z"
   },
   {
    "duration": 2872,
    "start_time": "2024-04-03T15:11:13.985Z"
   },
   {
    "duration": 5,
    "start_time": "2024-04-03T15:11:16.860Z"
   },
   {
    "duration": 21,
    "start_time": "2024-04-03T15:11:16.866Z"
   },
   {
    "duration": 22,
    "start_time": "2024-04-03T15:11:16.890Z"
   },
   {
    "duration": 22,
    "start_time": "2024-04-03T15:11:16.914Z"
   },
   {
    "duration": 36,
    "start_time": "2024-04-03T15:11:16.938Z"
   },
   {
    "duration": 25,
    "start_time": "2024-04-03T15:11:16.975Z"
   },
   {
    "duration": 15,
    "start_time": "2024-04-03T15:11:17.002Z"
   },
   {
    "duration": 5930,
    "start_time": "2024-04-03T15:11:17.018Z"
   },
   {
    "duration": 255,
    "start_time": "2024-04-03T15:11:22.950Z"
   },
   {
    "duration": 201,
    "start_time": "2024-04-03T15:11:23.207Z"
   },
   {
    "duration": 8,
    "start_time": "2024-04-03T15:11:23.410Z"
   },
   {
    "duration": 16,
    "start_time": "2024-04-03T15:11:23.419Z"
   },
   {
    "duration": 8,
    "start_time": "2024-04-03T15:11:23.437Z"
   },
   {
    "duration": 15,
    "start_time": "2024-04-03T15:11:23.447Z"
   },
   {
    "duration": 2434,
    "start_time": "2024-04-03T15:11:23.464Z"
   },
   {
    "duration": 94,
    "start_time": "2024-04-03T15:11:25.900Z"
   },
   {
    "duration": 108,
    "start_time": "2024-04-03T15:11:25.997Z"
   },
   {
    "duration": 33,
    "start_time": "2024-04-03T15:11:26.108Z"
   },
   {
    "duration": 19,
    "start_time": "2024-04-03T15:11:26.143Z"
   },
   {
    "duration": 3631,
    "start_time": "2024-04-03T15:11:26.163Z"
   },
   {
    "duration": 3995,
    "start_time": "2024-04-03T15:11:29.796Z"
   },
   {
    "duration": 100,
    "start_time": "2024-04-03T15:11:33.794Z"
   },
   {
    "duration": 371,
    "start_time": "2024-04-03T15:11:33.896Z"
   },
   {
    "duration": 694,
    "start_time": "2024-04-03T15:11:34.269Z"
   },
   {
    "duration": 3,
    "start_time": "2024-04-03T15:11:53.817Z"
   },
   {
    "duration": 33,
    "start_time": "2024-04-03T15:11:53.823Z"
   },
   {
    "duration": 81,
    "start_time": "2024-04-03T15:11:53.858Z"
   },
   {
    "duration": 4,
    "start_time": "2024-04-03T15:11:53.941Z"
   },
   {
    "duration": 912,
    "start_time": "2024-04-03T15:11:53.947Z"
   },
   {
    "duration": 43,
    "start_time": "2024-04-03T15:11:54.861Z"
   },
   {
    "duration": 97,
    "start_time": "2024-04-03T15:11:54.906Z"
   },
   {
    "duration": 536,
    "start_time": "2024-04-03T15:11:55.005Z"
   },
   {
    "duration": 3347,
    "start_time": "2024-04-03T15:11:55.543Z"
   },
   {
    "duration": 22774,
    "start_time": "2024-04-03T15:11:58.894Z"
   },
   {
    "duration": 2893,
    "start_time": "2024-04-03T15:12:21.670Z"
   },
   {
    "duration": 5,
    "start_time": "2024-04-03T15:12:24.566Z"
   },
   {
    "duration": 23,
    "start_time": "2024-04-03T15:12:24.573Z"
   },
   {
    "duration": 30,
    "start_time": "2024-04-03T15:12:24.598Z"
   },
   {
    "duration": 37,
    "start_time": "2024-04-03T15:12:24.630Z"
   },
   {
    "duration": 19,
    "start_time": "2024-04-03T15:12:24.669Z"
   },
   {
    "duration": 44,
    "start_time": "2024-04-03T15:12:24.691Z"
   },
   {
    "duration": 50,
    "start_time": "2024-04-03T15:12:24.736Z"
   },
   {
    "duration": 3783,
    "start_time": "2024-04-03T15:12:24.788Z"
   },
   {
    "duration": 263,
    "start_time": "2024-04-03T15:12:28.573Z"
   },
   {
    "duration": 209,
    "start_time": "2024-04-03T15:12:28.838Z"
   },
   {
    "duration": 9,
    "start_time": "2024-04-03T15:12:29.048Z"
   },
   {
    "duration": 69,
    "start_time": "2024-04-03T15:12:29.059Z"
   },
   {
    "duration": 45,
    "start_time": "2024-04-03T15:12:29.130Z"
   },
   {
    "duration": 46,
    "start_time": "2024-04-03T15:12:29.176Z"
   },
   {
    "duration": 2474,
    "start_time": "2024-04-03T15:12:29.224Z"
   },
   {
    "duration": 94,
    "start_time": "2024-04-03T15:12:31.700Z"
   },
   {
    "duration": 331,
    "start_time": "2024-04-03T15:12:31.800Z"
   },
   {
    "duration": 20,
    "start_time": "2024-04-03T15:12:32.133Z"
   },
   {
    "duration": 0,
    "start_time": "2024-04-03T15:12:32.154Z"
   },
   {
    "duration": 0,
    "start_time": "2024-04-03T15:12:32.155Z"
   },
   {
    "duration": 0,
    "start_time": "2024-04-03T15:12:32.156Z"
   },
   {
    "duration": 0,
    "start_time": "2024-04-03T15:12:32.158Z"
   },
   {
    "duration": 0,
    "start_time": "2024-04-03T15:12:32.158Z"
   },
   {
    "duration": 0,
    "start_time": "2024-04-03T15:12:32.160Z"
   },
   {
    "duration": 45,
    "start_time": "2024-04-03T15:13:04.378Z"
   },
   {
    "duration": 1084,
    "start_time": "2024-04-03T15:13:09.802Z"
   },
   {
    "duration": 4,
    "start_time": "2024-04-03T15:15:19.274Z"
   },
   {
    "duration": 2274,
    "start_time": "2024-04-03T15:15:22.747Z"
   },
   {
    "duration": 4,
    "start_time": "2024-04-03T15:15:37.186Z"
   },
   {
    "duration": 1512218,
    "start_time": "2024-04-03T15:15:44.731Z"
   },
   {
    "duration": 3,
    "start_time": "2024-04-03T15:40:56.952Z"
   },
   {
    "duration": 22,
    "start_time": "2024-04-03T15:40:56.957Z"
   },
   {
    "duration": 3815,
    "start_time": "2024-04-03T15:40:56.981Z"
   },
   {
    "duration": 4145,
    "start_time": "2024-04-03T15:41:00.798Z"
   },
   {
    "duration": 56,
    "start_time": "2024-04-03T15:41:04.945Z"
   },
   {
    "duration": 430,
    "start_time": "2024-04-03T15:41:05.007Z"
   },
   {
    "duration": 745,
    "start_time": "2024-04-03T15:41:05.439Z"
   },
   {
    "duration": 5,
    "start_time": "2024-04-03T15:41:58.853Z"
   },
   {
    "duration": 4,
    "start_time": "2024-04-03T15:43:39.181Z"
   },
   {
    "duration": 14,
    "start_time": "2024-04-03T15:43:41.691Z"
   },
   {
    "duration": 5,
    "start_time": "2024-04-03T15:44:15.957Z"
   },
   {
    "duration": 13,
    "start_time": "2024-04-03T15:44:25.957Z"
   },
   {
    "duration": 3,
    "start_time": "2024-04-03T15:44:55.963Z"
   },
   {
    "duration": 28,
    "start_time": "2024-04-03T15:44:55.968Z"
   },
   {
    "duration": 215,
    "start_time": "2024-04-03T15:44:55.997Z"
   },
   {
    "duration": 4,
    "start_time": "2024-04-03T15:44:56.214Z"
   },
   {
    "duration": 941,
    "start_time": "2024-04-03T15:44:56.221Z"
   },
   {
    "duration": 44,
    "start_time": "2024-04-03T15:44:57.164Z"
   },
   {
    "duration": 108,
    "start_time": "2024-04-03T15:44:57.210Z"
   },
   {
    "duration": 534,
    "start_time": "2024-04-03T15:44:57.320Z"
   },
   {
    "duration": 3545,
    "start_time": "2024-04-03T15:44:57.855Z"
   },
   {
    "duration": 22751,
    "start_time": "2024-04-03T15:45:01.402Z"
   },
   {
    "duration": 2882,
    "start_time": "2024-04-03T15:45:24.156Z"
   },
   {
    "duration": 5,
    "start_time": "2024-04-03T15:45:27.041Z"
   },
   {
    "duration": 29,
    "start_time": "2024-04-03T15:45:27.048Z"
   },
   {
    "duration": 13,
    "start_time": "2024-04-03T15:45:27.081Z"
   },
   {
    "duration": 17,
    "start_time": "2024-04-03T15:45:27.096Z"
   },
   {
    "duration": 6,
    "start_time": "2024-04-03T15:45:27.115Z"
   },
   {
    "duration": 23,
    "start_time": "2024-04-03T15:45:27.123Z"
   },
   {
    "duration": 5,
    "start_time": "2024-04-03T15:45:27.148Z"
   },
   {
    "duration": 4680,
    "start_time": "2024-04-03T15:45:27.155Z"
   },
   {
    "duration": 260,
    "start_time": "2024-04-03T15:45:31.837Z"
   },
   {
    "duration": 203,
    "start_time": "2024-04-03T15:45:32.099Z"
   },
   {
    "duration": 7,
    "start_time": "2024-04-03T15:45:32.304Z"
   },
   {
    "duration": 24,
    "start_time": "2024-04-03T15:45:32.313Z"
   },
   {
    "duration": 11,
    "start_time": "2024-04-03T15:45:32.338Z"
   },
   {
    "duration": 46,
    "start_time": "2024-04-03T15:45:32.351Z"
   },
   {
    "duration": 2499,
    "start_time": "2024-04-03T15:45:32.399Z"
   },
   {
    "duration": 94,
    "start_time": "2024-04-03T15:45:34.901Z"
   },
   {
    "duration": 96,
    "start_time": "2024-04-03T15:45:34.997Z"
   },
   {
    "duration": 31,
    "start_time": "2024-04-03T15:45:35.094Z"
   },
   {
    "duration": 31,
    "start_time": "2024-04-03T15:45:35.127Z"
   },
   {
    "duration": 45,
    "start_time": "2024-04-03T15:45:35.160Z"
   },
   {
    "duration": 2,
    "start_time": "2024-04-03T15:46:35.089Z"
   },
   {
    "duration": 8,
    "start_time": "2024-04-03T15:46:35.093Z"
   },
   {
    "duration": 46,
    "start_time": "2024-04-03T15:46:35.103Z"
   },
   {
    "duration": 4,
    "start_time": "2024-04-03T15:46:35.151Z"
   },
   {
    "duration": 922,
    "start_time": "2024-04-03T15:46:35.158Z"
   },
   {
    "duration": 50,
    "start_time": "2024-04-03T15:46:36.082Z"
   },
   {
    "duration": 103,
    "start_time": "2024-04-03T15:46:36.134Z"
   },
   {
    "duration": 490,
    "start_time": "2024-04-03T15:46:36.239Z"
   },
   {
    "duration": 3470,
    "start_time": "2024-04-03T15:46:36.732Z"
   },
   {
    "duration": 22447,
    "start_time": "2024-04-03T15:46:40.204Z"
   },
   {
    "duration": 2903,
    "start_time": "2024-04-03T15:47:02.653Z"
   },
   {
    "duration": 4,
    "start_time": "2024-04-03T15:47:05.559Z"
   },
   {
    "duration": 23,
    "start_time": "2024-04-03T15:47:05.565Z"
   },
   {
    "duration": 16,
    "start_time": "2024-04-03T15:47:05.593Z"
   },
   {
    "duration": 6,
    "start_time": "2024-04-03T15:47:05.611Z"
   },
   {
    "duration": 22,
    "start_time": "2024-04-03T15:47:05.619Z"
   },
   {
    "duration": 21,
    "start_time": "2024-04-03T15:47:05.643Z"
   },
   {
    "duration": 6,
    "start_time": "2024-04-03T15:47:05.666Z"
   },
   {
    "duration": 4287,
    "start_time": "2024-04-03T15:47:05.673Z"
   },
   {
    "duration": 273,
    "start_time": "2024-04-03T15:47:09.961Z"
   },
   {
    "duration": 214,
    "start_time": "2024-04-03T15:47:10.236Z"
   },
   {
    "duration": 9,
    "start_time": "2024-04-03T15:47:10.452Z"
   },
   {
    "duration": 10,
    "start_time": "2024-04-03T15:47:10.463Z"
   },
   {
    "duration": 7,
    "start_time": "2024-04-03T15:47:10.475Z"
   },
   {
    "duration": 11,
    "start_time": "2024-04-03T15:47:10.492Z"
   },
   {
    "duration": 2587,
    "start_time": "2024-04-03T15:47:10.505Z"
   },
   {
    "duration": 5,
    "start_time": "2024-04-03T15:47:13.094Z"
   },
   {
    "duration": 104,
    "start_time": "2024-04-03T15:47:13.101Z"
   },
   {
    "duration": 16,
    "start_time": "2024-04-03T15:47:13.207Z"
   },
   {
    "duration": 17,
    "start_time": "2024-04-03T15:47:13.225Z"
   },
   {
    "duration": 16,
    "start_time": "2024-04-03T15:47:13.244Z"
   },
   {
    "duration": 3833,
    "start_time": "2024-04-03T15:47:13.262Z"
   },
   {
    "duration": 3997,
    "start_time": "2024-04-03T15:47:17.098Z"
   },
   {
    "duration": 192,
    "start_time": "2024-04-03T15:47:21.100Z"
   },
   {
    "duration": 409,
    "start_time": "2024-04-03T15:47:21.294Z"
   },
   {
    "duration": 752,
    "start_time": "2024-04-03T15:47:21.705Z"
   },
   {
    "duration": 3,
    "start_time": "2024-04-03T15:50:20.161Z"
   },
   {
    "duration": 12,
    "start_time": "2024-04-03T15:50:20.167Z"
   },
   {
    "duration": 58,
    "start_time": "2024-04-03T15:50:20.181Z"
   },
   {
    "duration": 4,
    "start_time": "2024-04-03T15:50:20.241Z"
   },
   {
    "duration": 969,
    "start_time": "2024-04-03T15:50:20.247Z"
   },
   {
    "duration": 48,
    "start_time": "2024-04-03T15:50:21.219Z"
   },
   {
    "duration": 107,
    "start_time": "2024-04-03T15:50:21.269Z"
   },
   {
    "duration": 528,
    "start_time": "2024-04-03T15:50:21.378Z"
   },
   {
    "duration": 3482,
    "start_time": "2024-04-03T15:50:21.908Z"
   },
   {
    "duration": 22638,
    "start_time": "2024-04-03T15:50:25.392Z"
   },
   {
    "duration": 2877,
    "start_time": "2024-04-03T15:50:48.033Z"
   },
   {
    "duration": 4,
    "start_time": "2024-04-03T15:50:50.912Z"
   },
   {
    "duration": 18,
    "start_time": "2024-04-03T15:50:50.918Z"
   },
   {
    "duration": 16,
    "start_time": "2024-04-03T15:50:50.939Z"
   },
   {
    "duration": 13,
    "start_time": "2024-04-03T15:50:50.957Z"
   },
   {
    "duration": 12,
    "start_time": "2024-04-03T15:50:50.972Z"
   },
   {
    "duration": 9,
    "start_time": "2024-04-03T15:50:50.985Z"
   },
   {
    "duration": 8,
    "start_time": "2024-04-03T15:50:50.996Z"
   },
   {
    "duration": 5100,
    "start_time": "2024-04-03T15:50:51.005Z"
   },
   {
    "duration": 254,
    "start_time": "2024-04-03T15:50:56.107Z"
   },
   {
    "duration": 205,
    "start_time": "2024-04-03T15:50:56.363Z"
   },
   {
    "duration": 7,
    "start_time": "2024-04-03T15:50:56.570Z"
   },
   {
    "duration": 7,
    "start_time": "2024-04-03T15:50:56.579Z"
   },
   {
    "duration": 2,
    "start_time": "2024-04-03T15:50:56.592Z"
   },
   {
    "duration": 5,
    "start_time": "2024-04-03T15:50:56.596Z"
   },
   {
    "duration": 2490,
    "start_time": "2024-04-03T15:50:56.603Z"
   },
   {
    "duration": 96,
    "start_time": "2024-04-03T15:50:59.096Z"
   },
   {
    "duration": 3,
    "start_time": "2024-04-03T15:50:59.193Z"
   },
   {
    "duration": 12,
    "start_time": "2024-04-03T15:50:59.198Z"
   },
   {
    "duration": 14,
    "start_time": "2024-04-03T15:50:59.212Z"
   },
   {
    "duration": 29,
    "start_time": "2024-04-03T15:50:59.228Z"
   },
   {
    "duration": 3934,
    "start_time": "2024-04-03T15:50:59.258Z"
   },
   {
    "duration": 3894,
    "start_time": "2024-04-03T15:51:03.198Z"
   },
   {
    "duration": 97,
    "start_time": "2024-04-03T15:51:07.095Z"
   },
   {
    "duration": 367,
    "start_time": "2024-04-03T15:51:07.194Z"
   },
   {
    "duration": 696,
    "start_time": "2024-04-03T15:51:07.563Z"
   },
   {
    "duration": 2,
    "start_time": "2024-04-03T15:52:20.424Z"
   },
   {
    "duration": 28,
    "start_time": "2024-04-03T15:52:20.429Z"
   },
   {
    "duration": 57,
    "start_time": "2024-04-03T15:52:20.459Z"
   },
   {
    "duration": 5,
    "start_time": "2024-04-03T15:52:20.519Z"
   },
   {
    "duration": 925,
    "start_time": "2024-04-03T15:52:20.526Z"
   },
   {
    "duration": 52,
    "start_time": "2024-04-03T15:52:21.452Z"
   },
   {
    "duration": 97,
    "start_time": "2024-04-03T15:52:21.506Z"
   },
   {
    "duration": 571,
    "start_time": "2024-04-03T15:52:21.605Z"
   },
   {
    "duration": 3423,
    "start_time": "2024-04-03T15:52:22.178Z"
   },
   {
    "duration": 22704,
    "start_time": "2024-04-03T15:52:25.605Z"
   },
   {
    "duration": 2900,
    "start_time": "2024-04-03T15:52:48.311Z"
   },
   {
    "duration": 5,
    "start_time": "2024-04-03T15:52:51.214Z"
   },
   {
    "duration": 22,
    "start_time": "2024-04-03T15:52:51.221Z"
   },
   {
    "duration": 9,
    "start_time": "2024-04-03T15:52:51.246Z"
   },
   {
    "duration": 17,
    "start_time": "2024-04-03T15:52:51.256Z"
   },
   {
    "duration": 20,
    "start_time": "2024-04-03T15:52:51.275Z"
   },
   {
    "duration": 9,
    "start_time": "2024-04-03T15:52:51.296Z"
   },
   {
    "duration": 3,
    "start_time": "2024-04-03T15:52:51.307Z"
   },
   {
    "duration": 3763,
    "start_time": "2024-04-03T15:52:51.312Z"
   },
   {
    "duration": 249,
    "start_time": "2024-04-03T15:52:55.077Z"
   },
   {
    "duration": 209,
    "start_time": "2024-04-03T15:52:55.328Z"
   },
   {
    "duration": 8,
    "start_time": "2024-04-03T15:52:55.539Z"
   },
   {
    "duration": 19,
    "start_time": "2024-04-03T15:52:55.549Z"
   },
   {
    "duration": 7,
    "start_time": "2024-04-03T15:52:55.570Z"
   },
   {
    "duration": 18,
    "start_time": "2024-04-03T15:52:55.579Z"
   },
   {
    "duration": 2399,
    "start_time": "2024-04-03T15:52:55.599Z"
   },
   {
    "duration": 92,
    "start_time": "2024-04-03T15:52:58.001Z"
   },
   {
    "duration": 94,
    "start_time": "2024-04-03T15:52:58.100Z"
   },
   {
    "duration": 5,
    "start_time": "2024-04-03T15:52:58.195Z"
   },
   {
    "duration": 12,
    "start_time": "2024-04-03T15:52:58.202Z"
   },
   {
    "duration": 3876,
    "start_time": "2024-04-03T15:52:58.216Z"
   },
   {
    "duration": 3836,
    "start_time": "2024-04-03T15:53:02.094Z"
   },
   {
    "duration": 102,
    "start_time": "2024-04-03T15:53:05.992Z"
   },
   {
    "duration": 400,
    "start_time": "2024-04-03T15:53:06.096Z"
   },
   {
    "duration": 760,
    "start_time": "2024-04-03T15:53:06.497Z"
   },
   {
    "duration": 3,
    "start_time": "2024-04-03T15:53:49.958Z"
   },
   {
    "duration": 7,
    "start_time": "2024-04-03T15:53:49.963Z"
   },
   {
    "duration": 104,
    "start_time": "2024-04-03T15:53:49.971Z"
   },
   {
    "duration": 7,
    "start_time": "2024-04-03T15:53:50.078Z"
   },
   {
    "duration": 932,
    "start_time": "2024-04-03T15:53:50.087Z"
   },
   {
    "duration": 41,
    "start_time": "2024-04-03T15:53:51.021Z"
   },
   {
    "duration": 106,
    "start_time": "2024-04-03T15:53:51.063Z"
   },
   {
    "duration": 520,
    "start_time": "2024-04-03T15:53:51.171Z"
   },
   {
    "duration": 3419,
    "start_time": "2024-04-03T15:53:51.693Z"
   },
   {
    "duration": 22665,
    "start_time": "2024-04-03T15:53:55.115Z"
   },
   {
    "duration": 2998,
    "start_time": "2024-04-03T15:54:17.782Z"
   },
   {
    "duration": 5,
    "start_time": "2024-04-03T15:54:20.781Z"
   },
   {
    "duration": 2,
    "start_time": "2024-04-03T15:54:20.792Z"
   },
   {
    "duration": 19,
    "start_time": "2024-04-03T15:54:20.796Z"
   },
   {
    "duration": 47,
    "start_time": "2024-04-03T15:54:20.817Z"
   },
   {
    "duration": 6,
    "start_time": "2024-04-03T15:54:20.866Z"
   },
   {
    "duration": 11,
    "start_time": "2024-04-03T15:54:20.874Z"
   },
   {
    "duration": 13,
    "start_time": "2024-04-03T15:54:20.887Z"
   },
   {
    "duration": 3778,
    "start_time": "2024-04-03T15:54:20.902Z"
   },
   {
    "duration": 276,
    "start_time": "2024-04-03T15:54:24.682Z"
   },
   {
    "duration": 200,
    "start_time": "2024-04-03T15:54:24.960Z"
   },
   {
    "duration": 8,
    "start_time": "2024-04-03T15:54:25.161Z"
   },
   {
    "duration": 7,
    "start_time": "2024-04-03T15:54:25.171Z"
   },
   {
    "duration": 2,
    "start_time": "2024-04-03T15:54:25.192Z"
   },
   {
    "duration": 19,
    "start_time": "2024-04-03T15:54:25.197Z"
   },
   {
    "duration": 2574,
    "start_time": "2024-04-03T15:54:25.218Z"
   },
   {
    "duration": 5,
    "start_time": "2024-04-03T15:54:27.796Z"
   },
   {
    "duration": 4,
    "start_time": "2024-04-03T15:54:27.894Z"
   },
   {
    "duration": 7,
    "start_time": "2024-04-03T15:54:27.899Z"
   },
   {
    "duration": 28,
    "start_time": "2024-04-03T15:54:27.908Z"
   },
   {
    "duration": 3756,
    "start_time": "2024-04-03T15:54:27.938Z"
   },
   {
    "duration": 4031,
    "start_time": "2024-04-03T15:54:31.697Z"
   },
   {
    "duration": 68,
    "start_time": "2024-04-03T15:54:35.730Z"
   },
   {
    "duration": 473,
    "start_time": "2024-04-03T15:54:35.800Z"
   },
   {
    "duration": 976,
    "start_time": "2024-04-03T15:54:36.275Z"
   },
   {
    "duration": 4,
    "start_time": "2024-04-03T19:18:49.074Z"
   },
   {
    "duration": 51,
    "start_time": "2024-04-03T19:18:49.081Z"
   },
   {
    "duration": 0,
    "start_time": "2024-04-03T19:18:49.134Z"
   },
   {
    "duration": 0,
    "start_time": "2024-04-03T19:18:49.135Z"
   },
   {
    "duration": 0,
    "start_time": "2024-04-03T19:18:49.136Z"
   },
   {
    "duration": 0,
    "start_time": "2024-04-03T19:18:49.137Z"
   },
   {
    "duration": 0,
    "start_time": "2024-04-03T19:18:49.138Z"
   },
   {
    "duration": 0,
    "start_time": "2024-04-03T19:18:49.139Z"
   },
   {
    "duration": 0,
    "start_time": "2024-04-03T19:18:49.141Z"
   },
   {
    "duration": 0,
    "start_time": "2024-04-03T19:18:49.142Z"
   },
   {
    "duration": 0,
    "start_time": "2024-04-03T19:18:49.143Z"
   },
   {
    "duration": 0,
    "start_time": "2024-04-03T19:18:49.144Z"
   },
   {
    "duration": 0,
    "start_time": "2024-04-03T19:18:49.145Z"
   },
   {
    "duration": 0,
    "start_time": "2024-04-03T19:18:49.146Z"
   },
   {
    "duration": 0,
    "start_time": "2024-04-03T19:18:49.147Z"
   },
   {
    "duration": 0,
    "start_time": "2024-04-03T19:18:49.149Z"
   },
   {
    "duration": 0,
    "start_time": "2024-04-03T19:18:49.188Z"
   },
   {
    "duration": 0,
    "start_time": "2024-04-03T19:18:49.189Z"
   },
   {
    "duration": 0,
    "start_time": "2024-04-03T19:18:49.190Z"
   },
   {
    "duration": 0,
    "start_time": "2024-04-03T19:18:49.192Z"
   },
   {
    "duration": 0,
    "start_time": "2024-04-03T19:18:49.193Z"
   },
   {
    "duration": 0,
    "start_time": "2024-04-03T19:18:49.195Z"
   },
   {
    "duration": 0,
    "start_time": "2024-04-03T19:18:49.196Z"
   },
   {
    "duration": 0,
    "start_time": "2024-04-03T19:18:49.197Z"
   },
   {
    "duration": 0,
    "start_time": "2024-04-03T19:18:49.198Z"
   },
   {
    "duration": 0,
    "start_time": "2024-04-03T19:18:49.200Z"
   },
   {
    "duration": 0,
    "start_time": "2024-04-03T19:18:49.201Z"
   },
   {
    "duration": 0,
    "start_time": "2024-04-03T19:18:49.202Z"
   },
   {
    "duration": 0,
    "start_time": "2024-04-03T19:18:49.204Z"
   },
   {
    "duration": 0,
    "start_time": "2024-04-03T19:18:49.205Z"
   },
   {
    "duration": 0,
    "start_time": "2024-04-03T19:18:49.206Z"
   },
   {
    "duration": 1,
    "start_time": "2024-04-03T19:18:49.207Z"
   },
   {
    "duration": 0,
    "start_time": "2024-04-03T19:18:49.209Z"
   },
   {
    "duration": 0,
    "start_time": "2024-04-03T19:18:49.210Z"
   },
   {
    "duration": 0,
    "start_time": "2024-04-03T19:18:49.212Z"
   },
   {
    "duration": 19077,
    "start_time": "2024-04-03T19:19:26.181Z"
   },
   {
    "duration": 4693,
    "start_time": "2024-04-03T19:19:45.260Z"
   },
   {
    "duration": 333,
    "start_time": "2024-04-03T19:19:49.955Z"
   },
   {
    "duration": 3,
    "start_time": "2024-04-03T19:19:50.290Z"
   },
   {
    "duration": 3306,
    "start_time": "2024-04-03T19:19:50.296Z"
   },
   {
    "duration": 38,
    "start_time": "2024-04-03T19:19:53.604Z"
   },
   {
    "duration": 73,
    "start_time": "2024-04-03T19:19:53.643Z"
   },
   {
    "duration": 543,
    "start_time": "2024-04-03T19:19:53.717Z"
   },
   {
    "duration": 3155,
    "start_time": "2024-04-03T19:19:54.262Z"
   },
   {
    "duration": 20959,
    "start_time": "2024-04-03T19:19:57.419Z"
   },
   {
    "duration": 2552,
    "start_time": "2024-04-03T19:20:18.380Z"
   },
   {
    "duration": 3,
    "start_time": "2024-04-03T19:20:20.934Z"
   },
   {
    "duration": 25,
    "start_time": "2024-04-03T19:20:20.939Z"
   },
   {
    "duration": 5,
    "start_time": "2024-04-03T19:20:20.967Z"
   },
   {
    "duration": 4,
    "start_time": "2024-04-03T19:20:20.974Z"
   },
   {
    "duration": 8,
    "start_time": "2024-04-03T19:20:20.979Z"
   },
   {
    "duration": 7,
    "start_time": "2024-04-03T19:20:20.988Z"
   },
   {
    "duration": 23,
    "start_time": "2024-04-03T19:20:20.996Z"
   },
   {
    "duration": 4480,
    "start_time": "2024-04-03T19:20:21.021Z"
   },
   {
    "duration": 239,
    "start_time": "2024-04-03T19:20:25.503Z"
   },
   {
    "duration": 198,
    "start_time": "2024-04-03T19:20:25.744Z"
   },
   {
    "duration": 7,
    "start_time": "2024-04-03T19:20:25.944Z"
   },
   {
    "duration": 6,
    "start_time": "2024-04-03T19:20:25.952Z"
   },
   {
    "duration": 3,
    "start_time": "2024-04-03T19:20:25.959Z"
   },
   {
    "duration": 5,
    "start_time": "2024-04-03T19:20:25.964Z"
   },
   {
    "duration": 2322,
    "start_time": "2024-04-03T19:20:25.970Z"
   },
   {
    "duration": 93,
    "start_time": "2024-04-03T19:20:28.295Z"
   },
   {
    "duration": 6,
    "start_time": "2024-04-03T19:20:28.391Z"
   },
   {
    "duration": 7,
    "start_time": "2024-04-03T19:20:28.488Z"
   },
   {
    "duration": 12,
    "start_time": "2024-04-03T19:20:28.496Z"
   },
   {
    "duration": 3515,
    "start_time": "2024-04-03T19:20:28.510Z"
   },
   {
    "duration": 3665,
    "start_time": "2024-04-03T19:20:32.027Z"
   },
   {
    "duration": 93,
    "start_time": "2024-04-03T19:20:35.696Z"
   },
   {
    "duration": 412,
    "start_time": "2024-04-03T19:20:35.791Z"
   },
   {
    "duration": 704,
    "start_time": "2024-04-03T19:20:36.204Z"
   },
   {
    "duration": 4,
    "start_time": "2024-04-04T09:29:31.992Z"
   },
   {
    "duration": 104,
    "start_time": "2024-04-04T09:29:31.998Z"
   },
   {
    "duration": 0,
    "start_time": "2024-04-04T09:29:32.105Z"
   },
   {
    "duration": 0,
    "start_time": "2024-04-04T09:29:32.107Z"
   },
   {
    "duration": 0,
    "start_time": "2024-04-04T09:29:32.108Z"
   },
   {
    "duration": 0,
    "start_time": "2024-04-04T09:29:32.109Z"
   },
   {
    "duration": 0,
    "start_time": "2024-04-04T09:29:32.111Z"
   },
   {
    "duration": 0,
    "start_time": "2024-04-04T09:29:32.113Z"
   },
   {
    "duration": 0,
    "start_time": "2024-04-04T09:29:32.115Z"
   },
   {
    "duration": 0,
    "start_time": "2024-04-04T09:29:32.116Z"
   },
   {
    "duration": 0,
    "start_time": "2024-04-04T09:29:32.117Z"
   },
   {
    "duration": 0,
    "start_time": "2024-04-04T09:29:32.119Z"
   },
   {
    "duration": 0,
    "start_time": "2024-04-04T09:29:32.121Z"
   },
   {
    "duration": 0,
    "start_time": "2024-04-04T09:29:32.122Z"
   },
   {
    "duration": 0,
    "start_time": "2024-04-04T09:29:32.123Z"
   },
   {
    "duration": 0,
    "start_time": "2024-04-04T09:29:32.124Z"
   },
   {
    "duration": 0,
    "start_time": "2024-04-04T09:29:32.125Z"
   },
   {
    "duration": 0,
    "start_time": "2024-04-04T09:29:32.127Z"
   },
   {
    "duration": 0,
    "start_time": "2024-04-04T09:29:32.128Z"
   },
   {
    "duration": 0,
    "start_time": "2024-04-04T09:29:32.129Z"
   },
   {
    "duration": 0,
    "start_time": "2024-04-04T09:29:32.131Z"
   },
   {
    "duration": 0,
    "start_time": "2024-04-04T09:29:32.132Z"
   },
   {
    "duration": 0,
    "start_time": "2024-04-04T09:29:32.133Z"
   },
   {
    "duration": 0,
    "start_time": "2024-04-04T09:29:32.135Z"
   },
   {
    "duration": 0,
    "start_time": "2024-04-04T09:29:32.175Z"
   },
   {
    "duration": 0,
    "start_time": "2024-04-04T09:29:32.176Z"
   },
   {
    "duration": 0,
    "start_time": "2024-04-04T09:29:32.178Z"
   },
   {
    "duration": 0,
    "start_time": "2024-04-04T09:29:32.180Z"
   },
   {
    "duration": 0,
    "start_time": "2024-04-04T09:29:32.181Z"
   },
   {
    "duration": 0,
    "start_time": "2024-04-04T09:29:32.183Z"
   },
   {
    "duration": 0,
    "start_time": "2024-04-04T09:29:32.185Z"
   },
   {
    "duration": 0,
    "start_time": "2024-04-04T09:29:32.186Z"
   },
   {
    "duration": 0,
    "start_time": "2024-04-04T09:29:32.187Z"
   },
   {
    "duration": 0,
    "start_time": "2024-04-04T09:29:32.189Z"
   },
   {
    "duration": 0,
    "start_time": "2024-04-04T09:29:32.190Z"
   },
   {
    "duration": 20739,
    "start_time": "2024-04-04T09:34:26.043Z"
   },
   {
    "duration": 5354,
    "start_time": "2024-04-04T09:34:46.785Z"
   },
   {
    "duration": 202,
    "start_time": "2024-04-04T09:34:52.141Z"
   },
   {
    "duration": 4,
    "start_time": "2024-04-04T09:34:52.345Z"
   },
   {
    "duration": 3310,
    "start_time": "2024-04-04T09:34:52.350Z"
   },
   {
    "duration": 41,
    "start_time": "2024-04-04T09:34:55.662Z"
   },
   {
    "duration": 93,
    "start_time": "2024-04-04T09:34:55.705Z"
   },
   {
    "duration": 552,
    "start_time": "2024-04-04T09:34:55.800Z"
   },
   {
    "duration": 3490,
    "start_time": "2024-04-04T09:34:56.354Z"
   },
   {
    "duration": 23317,
    "start_time": "2024-04-04T09:34:59.847Z"
   },
   {
    "duration": 2856,
    "start_time": "2024-04-04T09:35:23.166Z"
   },
   {
    "duration": 4,
    "start_time": "2024-04-04T09:35:26.025Z"
   },
   {
    "duration": 24,
    "start_time": "2024-04-04T09:35:26.030Z"
   },
   {
    "duration": 18,
    "start_time": "2024-04-04T09:35:26.055Z"
   },
   {
    "duration": 6,
    "start_time": "2024-04-04T09:35:26.075Z"
   },
   {
    "duration": 3,
    "start_time": "2024-04-04T09:35:26.089Z"
   },
   {
    "duration": 14,
    "start_time": "2024-04-04T09:35:26.094Z"
   },
   {
    "duration": 4,
    "start_time": "2024-04-04T09:35:26.110Z"
   },
   {
    "duration": 4429,
    "start_time": "2024-04-04T09:35:26.116Z"
   },
   {
    "duration": 249,
    "start_time": "2024-04-04T09:35:30.547Z"
   },
   {
    "duration": 548,
    "start_time": "2024-04-04T09:35:30.798Z"
   },
   {
    "duration": 10,
    "start_time": "2024-04-04T09:35:31.349Z"
   },
   {
    "duration": 82,
    "start_time": "2024-04-04T09:35:31.360Z"
   },
   {
    "duration": 34,
    "start_time": "2024-04-04T09:35:31.444Z"
   },
   {
    "duration": 48,
    "start_time": "2024-04-04T09:35:31.479Z"
   },
   {
    "duration": 2652,
    "start_time": "2024-04-04T09:35:31.529Z"
   },
   {
    "duration": 91,
    "start_time": "2024-04-04T09:35:34.184Z"
   },
   {
    "duration": 101,
    "start_time": "2024-04-04T09:35:34.280Z"
   },
   {
    "duration": 7,
    "start_time": "2024-04-04T09:35:34.383Z"
   },
   {
    "duration": 15,
    "start_time": "2024-04-04T09:35:34.392Z"
   },
   {
    "duration": 33,
    "start_time": "2024-04-04T09:35:34.409Z"
   },
   {
    "duration": 3932,
    "start_time": "2024-04-04T09:35:34.444Z"
   },
   {
    "duration": 96,
    "start_time": "2024-04-04T09:35:38.378Z"
   },
   {
    "duration": 404,
    "start_time": "2024-04-04T09:35:38.476Z"
   },
   {
    "duration": 763,
    "start_time": "2024-04-04T09:35:38.883Z"
   },
   {
    "duration": 58,
    "start_time": "2024-04-04T09:37:34.077Z"
   },
   {
    "duration": 11503,
    "start_time": "2024-04-04T09:38:01.559Z"
   },
   {
    "duration": 8,
    "start_time": "2024-04-04T09:38:13.066Z"
   },
   {
    "duration": 83,
    "start_time": "2024-04-04T09:38:13.076Z"
   },
   {
    "duration": 4,
    "start_time": "2024-04-04T09:38:13.162Z"
   },
   {
    "duration": 1035,
    "start_time": "2024-04-04T09:38:13.168Z"
   },
   {
    "duration": 56,
    "start_time": "2024-04-04T09:38:14.205Z"
   },
   {
    "duration": 98,
    "start_time": "2024-04-04T09:38:14.263Z"
   },
   {
    "duration": 596,
    "start_time": "2024-04-04T09:38:14.363Z"
   },
   {
    "duration": 3571,
    "start_time": "2024-04-04T09:38:14.961Z"
   },
   {
    "duration": 23252,
    "start_time": "2024-04-04T09:38:18.535Z"
   },
   {
    "duration": 2906,
    "start_time": "2024-04-04T09:38:41.789Z"
   },
   {
    "duration": 4,
    "start_time": "2024-04-04T09:38:44.697Z"
   },
   {
    "duration": 9,
    "start_time": "2024-04-04T09:38:44.703Z"
   },
   {
    "duration": 7,
    "start_time": "2024-04-04T09:38:44.714Z"
   },
   {
    "duration": 5,
    "start_time": "2024-04-04T09:38:44.722Z"
   },
   {
    "duration": 5,
    "start_time": "2024-04-04T09:38:44.729Z"
   },
   {
    "duration": 4,
    "start_time": "2024-04-04T09:38:44.735Z"
   },
   {
    "duration": 8,
    "start_time": "2024-04-04T09:38:44.741Z"
   },
   {
    "duration": 5258,
    "start_time": "2024-04-04T09:38:44.750Z"
   },
   {
    "duration": 312,
    "start_time": "2024-04-04T09:38:50.011Z"
   },
   {
    "duration": 199,
    "start_time": "2024-04-04T09:38:50.324Z"
   },
   {
    "duration": 9,
    "start_time": "2024-04-04T09:38:50.524Z"
   },
   {
    "duration": 11,
    "start_time": "2024-04-04T09:38:50.535Z"
   },
   {
    "duration": 6,
    "start_time": "2024-04-04T09:38:50.548Z"
   },
   {
    "duration": 18,
    "start_time": "2024-04-04T09:38:50.555Z"
   },
   {
    "duration": 2604,
    "start_time": "2024-04-04T09:38:50.574Z"
   },
   {
    "duration": 94,
    "start_time": "2024-04-04T09:38:53.180Z"
   },
   {
    "duration": 102,
    "start_time": "2024-04-04T09:38:53.279Z"
   },
   {
    "duration": 17,
    "start_time": "2024-04-04T09:38:53.382Z"
   },
   {
    "duration": 59,
    "start_time": "2024-04-04T09:38:53.401Z"
   },
   {
    "duration": 37,
    "start_time": "2024-04-04T09:38:53.462Z"
   },
   {
    "duration": 3873,
    "start_time": "2024-04-04T09:38:53.501Z"
   },
   {
    "duration": 96,
    "start_time": "2024-04-04T09:38:57.377Z"
   },
   {
    "duration": 349,
    "start_time": "2024-04-04T09:38:57.475Z"
   },
   {
    "duration": 717,
    "start_time": "2024-04-04T09:38:57.826Z"
   },
   {
    "duration": 54,
    "start_time": "2024-04-04T09:38:58.545Z"
   },
   {
    "duration": 11128,
    "start_time": "2024-04-04T09:40:34.791Z"
   },
   {
    "duration": 5212,
    "start_time": "2024-04-04T09:40:45.921Z"
   },
   {
    "duration": 216,
    "start_time": "2024-04-04T09:40:51.135Z"
   },
   {
    "duration": 5,
    "start_time": "2024-04-04T09:40:51.354Z"
   },
   {
    "duration": 1024,
    "start_time": "2024-04-04T09:40:51.361Z"
   },
   {
    "duration": 40,
    "start_time": "2024-04-04T09:40:52.387Z"
   },
   {
    "duration": 93,
    "start_time": "2024-04-04T09:40:52.429Z"
   },
   {
    "duration": 674,
    "start_time": "2024-04-04T09:40:52.524Z"
   },
   {
    "duration": 3550,
    "start_time": "2024-04-04T09:40:53.201Z"
   },
   {
    "duration": 23992,
    "start_time": "2024-04-04T09:40:56.754Z"
   },
   {
    "duration": 3054,
    "start_time": "2024-04-04T09:41:20.748Z"
   },
   {
    "duration": 4,
    "start_time": "2024-04-04T09:41:23.804Z"
   },
   {
    "duration": 40,
    "start_time": "2024-04-04T09:41:23.809Z"
   },
   {
    "duration": 23,
    "start_time": "2024-04-04T09:41:23.851Z"
   },
   {
    "duration": 21,
    "start_time": "2024-04-04T09:41:23.876Z"
   },
   {
    "duration": 16,
    "start_time": "2024-04-04T09:41:23.899Z"
   },
   {
    "duration": 27,
    "start_time": "2024-04-04T09:41:23.917Z"
   },
   {
    "duration": 32,
    "start_time": "2024-04-04T09:41:23.946Z"
   },
   {
    "duration": 5157,
    "start_time": "2024-04-04T09:41:23.979Z"
   },
   {
    "duration": 265,
    "start_time": "2024-04-04T09:41:29.138Z"
   },
   {
    "duration": 195,
    "start_time": "2024-04-04T09:41:29.405Z"
   },
   {
    "duration": 8,
    "start_time": "2024-04-04T09:41:29.602Z"
   },
   {
    "duration": 51,
    "start_time": "2024-04-04T09:41:29.611Z"
   },
   {
    "duration": 7,
    "start_time": "2024-04-04T09:41:29.664Z"
   },
   {
    "duration": 10,
    "start_time": "2024-04-04T09:41:29.673Z"
   },
   {
    "duration": 2394,
    "start_time": "2024-04-04T09:41:29.685Z"
   },
   {
    "duration": 93,
    "start_time": "2024-04-04T09:41:32.081Z"
   },
   {
    "duration": 114,
    "start_time": "2024-04-04T09:41:32.179Z"
   },
   {
    "duration": 28,
    "start_time": "2024-04-04T09:41:32.294Z"
   },
   {
    "duration": 25,
    "start_time": "2024-04-04T09:41:32.324Z"
   },
   {
    "duration": 40,
    "start_time": "2024-04-04T09:41:32.350Z"
   },
   {
    "duration": 3894,
    "start_time": "2024-04-04T09:41:32.392Z"
   },
   {
    "duration": 6,
    "start_time": "2024-04-04T09:41:36.373Z"
   },
   {
    "duration": 370,
    "start_time": "2024-04-04T09:41:36.381Z"
   },
   {
    "duration": 696,
    "start_time": "2024-04-04T09:41:36.752Z"
   },
   {
    "duration": 60,
    "start_time": "2024-04-04T09:41:37.449Z"
   }
  ],
  "kernelspec": {
   "display_name": "Python 3 (ipykernel)",
   "language": "python",
   "name": "python3"
  },
  "language_info": {
   "codemirror_mode": {
    "name": "ipython",
    "version": 3
   },
   "file_extension": ".py",
   "mimetype": "text/x-python",
   "name": "python",
   "nbconvert_exporter": "python",
   "pygments_lexer": "ipython3",
   "version": "3.9.19"
  },
  "toc": {
   "base_numbering": 1,
   "nav_menu": {},
   "number_sections": true,
   "sideBar": true,
   "skip_h1_title": true,
   "title_cell": "Содержание",
   "title_sidebar": "Contents",
   "toc_cell": true,
   "toc_position": {
    "height": "calc(100% - 180px)",
    "left": "10px",
    "top": "150px",
    "width": "165px"
   },
   "toc_section_display": true,
   "toc_window_display": false
  }
 },
 "nbformat": 4,
 "nbformat_minor": 2
}
